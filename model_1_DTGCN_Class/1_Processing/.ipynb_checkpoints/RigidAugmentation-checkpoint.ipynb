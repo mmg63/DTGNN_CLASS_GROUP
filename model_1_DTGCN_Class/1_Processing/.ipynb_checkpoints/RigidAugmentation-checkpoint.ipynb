{
 "cells": [
  {
   "cell_type": "markdown",
   "id": "ad49c368-1410-49cc-a63e-a4f9559b838f",
   "metadata": {
    "editable": true,
    "slideshow": {
     "slide_type": ""
    },
    "tags": []
   },
   "source": [
    "## <span style='color: darkgreen'> This portion of code is for finding the images which are under represented for one-hot encodeing. <span>"
   ]
  },
  {
   "cell_type": "code",
   "execution_count": 29,
   "id": "298a71b3-ef29-40ee-9a2c-fa9f8eb210e8",
   "metadata": {
    "editable": true,
    "slideshow": {
     "slide_type": ""
    },
    "tags": []
   },
   "outputs": [],
   "source": [
    "import torch\n",
    "from collections import defaultdict\n",
    "import os\n"
   ]
  },
  {
   "cell_type": "code",
   "execution_count": 6,
   "id": "da49d181-b479-45b8-ae16-1685b3769165",
   "metadata": {
    "editable": true,
    "slideshow": {
     "slide_type": ""
    },
    "tags": []
   },
   "outputs": [
    {
     "name": "stdout",
     "output_type": "stream",
     "text": [
      "\n",
      "A sample of the Dataset: \n",
      " [Data(x=[1024, 7], pos=[1024, 2], edge_index=[2, 6250], y=1), 'ZT76_39_A_4_12'] \n",
      "\n",
      "\n",
      " 1\n"
     ]
    },
    {
     "name": "stderr",
     "output_type": "stream",
     "text": [
      "/var/folders/bn/yz9nrf9s393b2bxltkfvj6j80000gn/T/ipykernel_58074/962052016.py:4: FutureWarning: You are using `torch.load` with `weights_only=False` (the current default value), which uses the default pickle module implicitly. It is possible to construct malicious pickle data which will execute arbitrary code during unpickling (See https://github.com/pytorch/pytorch/blob/main/SECURITY.md#untrusted-models for more details). In a future release, the default value for `weights_only` will be flipped to `True`. This limits the functions that could be executed during unpickling. Arbitrary objects will no longer be allowed to be loaded via this mode unless they are explicitly allowlisted by the user via `torch.serialization.add_safe_globals`. We recommend you start setting `weights_only=True` for any use case where you don't have full control of the loaded file. Please open an issue on GitHub for any issues related to this experimental feature.\n",
      "  training_graph_dataset = torch.load('../DTDataset_Class/Graphs/1024/FullDataset/20250410_TrainGraphAugmentedDatasetWithLabels_and_filenames_one_hot.pt')\n"
     ]
    }
   ],
   "source": [
    "# === Step 1: Load the .pt file ===\n",
    "# This assumes your .pt file is saved as a list of dicts, each like:\n",
    "# {'filename': 'mask_XYZ.png', one_hot label}\n",
    "training_graph_dataset = torch.load('../DTDataset_Class/Graphs/1024/FullDataset/20250410_TrainGraphAugmentedDatasetWithLabels_and_filenames_one_hot.pt')\n",
    "print(f'\\nA sample of the Dataset: \\n', training_graph_dataset[0],'\\n\\n\\n', training_graph_dataset[0][0].y)\n"
   ]
  },
  {
   "cell_type": "code",
   "execution_count": 18,
   "id": "874ceffe-6ceb-4c4b-8129-99312bc56b3e",
   "metadata": {
    "editable": true,
    "slideshow": {
     "slide_type": ""
    },
    "tags": []
   },
   "outputs": [
    {
     "name": "stdout",
     "output_type": "stream",
     "text": [
      "The number of benign images with label healthy is : 103\n",
      "The number of total images in the dataset is 641\n",
      "The number of under-represented benign images in model one which need to use upsampling for the better training is 435 \n",
      "Thus, For each benign image, we need to upsample it with 4 different rigid augmentation!!\n",
      "515\n"
     ]
    }
   ],
   "source": [
    "# === step 2: reading the training dataset and storing the file names which indicated as the benign cores\n",
    "benign_file_names = []\n",
    "for entry in training_graph_dataset:\n",
    "    if entry[0].y==0:\n",
    "        benign_file_names.append(entry[1])\n",
    "        # print(entry[1])\n",
    "print('The number of benign images with label healthy is :', len(benign_file_names))\n",
    "print(f'The number of total images in the dataset is {len(training_graph_dataset)}')\n",
    "print(f'The number of under-represented benign images in model one which need to use upsampling for the better training is {len(training_graph_dataset) - 2 * len(benign_file_names)} ')\n",
    "print(f'Thus, For each benign image, we need to upsample it with 4 different rigid augmentation!!')\n",
    "print(f'{4* len(benign_file_names) + len(benign_file_names)}')"
   ]
  },
  {
   "cell_type": "code",
   "execution_count": 28,
   "id": "ce9cb16f-5515-439a-9e50-c183f237960f",
   "metadata": {
    "editable": true,
    "slideshow": {
     "slide_type": ""
    },
    "tags": []
   },
   "outputs": [],
   "source": [
    "# === Step 3: copy the under-represented images (here is benign files) into the Uder_rep_images folder ===\n",
    "import shutil\n",
    "from pathlib import Path\n",
    "\n",
    "SOURCE_FOLDER = f'../../dataset/images/'\n",
    "DEST_FOLDER = f'../DTDataset_Class/Under_rep_images/'\n",
    "\n",
    "for filename in benign_file_names:\n",
    "    filename = filename + '.jpg'\n",
    "    if not Path(DEST_FOLDER + filename).exists():\n",
    "        shutil.copy(SOURCE_FOLDER + filename, DEST_FOLDER)\n",
    "        print(f'file has been copied: {filename}')"
   ]
  },
  {
   "cell_type": "code",
   "execution_count": 30,
   "id": "cb50fcac-5932-4de0-9c26-8f57cd6d9051",
   "metadata": {
    "editable": true,
    "slideshow": {
     "slide_type": ""
    },
    "tags": []
   },
   "outputs": [
    {
     "name": "stdout",
     "output_type": "stream",
     "text": [
      "Requirement already satisfied: albumentations in /Users/mustafamohammadi/miniconda3/envs/torch_M2/lib/python3.11/site-packages (2.0.5)\n",
      "Requirement already satisfied: opencv-python in /Users/mustafamohammadi/miniconda3/envs/torch_M2/lib/python3.11/site-packages (4.10.0)\n",
      "Requirement already satisfied: pillow in /Users/mustafamohammadi/miniconda3/envs/torch_M2/lib/python3.11/site-packages (11.0.0)\n",
      "Requirement already satisfied: numpy>=1.24.4 in /Users/mustafamohammadi/miniconda3/envs/torch_M2/lib/python3.11/site-packages (from albumentations) (1.26.0)\n",
      "Requirement already satisfied: scipy>=1.10.0 in /Users/mustafamohammadi/miniconda3/envs/torch_M2/lib/python3.11/site-packages (from albumentations) (1.14.1)\n",
      "Requirement already satisfied: PyYAML in /Users/mustafamohammadi/miniconda3/envs/torch_M2/lib/python3.11/site-packages (from albumentations) (6.0.2)\n",
      "Requirement already satisfied: pydantic>=2.9.2 in /Users/mustafamohammadi/miniconda3/envs/torch_M2/lib/python3.11/site-packages (from albumentations) (2.11.2)\n",
      "Requirement already satisfied: albucore==0.0.23 in /Users/mustafamohammadi/miniconda3/envs/torch_M2/lib/python3.11/site-packages (from albumentations) (0.0.23)\n",
      "Requirement already satisfied: opencv-python-headless>=4.9.0.80 in /Users/mustafamohammadi/miniconda3/envs/torch_M2/lib/python3.11/site-packages (from albumentations) (4.10.0)\n",
      "Requirement already satisfied: stringzilla>=3.10.4 in /Users/mustafamohammadi/miniconda3/envs/torch_M2/lib/python3.11/site-packages (from albucore==0.0.23->albumentations) (3.12.3)\n",
      "Requirement already satisfied: simsimd>=5.9.2 in /Users/mustafamohammadi/miniconda3/envs/torch_M2/lib/python3.11/site-packages (from albucore==0.0.23->albumentations) (6.2.1)\n",
      "Requirement already satisfied: annotated-types>=0.6.0 in /Users/mustafamohammadi/miniconda3/envs/torch_M2/lib/python3.11/site-packages (from pydantic>=2.9.2->albumentations) (0.7.0)\n",
      "Requirement already satisfied: pydantic-core==2.33.1 in /Users/mustafamohammadi/miniconda3/envs/torch_M2/lib/python3.11/site-packages (from pydantic>=2.9.2->albumentations) (2.33.1)\n",
      "Requirement already satisfied: typing-extensions>=4.12.2 in /Users/mustafamohammadi/miniconda3/envs/torch_M2/lib/python3.11/site-packages (from pydantic>=2.9.2->albumentations) (4.12.2)\n",
      "Requirement already satisfied: typing-inspection>=0.4.0 in /Users/mustafamohammadi/miniconda3/envs/torch_M2/lib/python3.11/site-packages (from pydantic>=2.9.2->albumentations) (0.4.0)\n"
     ]
    }
   ],
   "source": [
    "! pip install albumentations opencv-python pillow"
   ]
  },
  {
   "cell_type": "code",
   "execution_count": null,
   "id": "e3b59d34-64f8-4460-a576-5b13147152d1",
   "metadata": {
    "editable": true,
    "slideshow": {
     "slide_type": ""
    },
    "tags": []
   },
   "outputs": [],
   "source": [
    "# === Step 4: RIGID UPSAMPLING ===\n",
    "# ! pip install albumentations opencv-python pillow\n",
    "\n",
    "import os\n",
    "import csv\n",
    "from PIL import Image\n",
    "import albumentations as A\n",
    "from albumentations.pytorch import ToTensorV2\n",
    "import numpy as np\n",
    "\n",
    "# === Configurations ===\n",
    "# Folder containing your original images\n",
    "input_image_folder = 'dataset/dataverse_files-2/Combined/Combined_images/'               \n",
    "# Where to save augmented images\n",
    "output_image_folder = 'dataset/dataverse_files-2/Combined/Augmented_images/'    \n",
    "# Your saved CSV file from before\n",
    "csv_file = 'dataset/dataverse_files-2/Combined/underrepresented_Images/underrepresented_images.csv'       \n",
    "\n",
    "# How many augmented copies to make per image\n",
    "augmentations_per_image = 4                    \n",
    "\n",
    "# Create output folder if it doesn't exist\n",
    "os.makedirs(output_image_folder, exist_ok=True)\n",
    "\n",
    "# === Define the augmentation pipeline ===\n",
    "transform = A.Compose([\n",
    "    A.HorizontalFlip(p=0.5),\n",
    "    A.VerticalFlip(p=0.5),\n",
    "    # A.Rotate(limit=30, p=0.7),\n",
    "    A.RandomBrightnessContrast(p=0.6),\n",
    "    A.GaussNoise(p=0.2),\n",
    "    A.ElasticTransform(p=0.2),\n",
    "    A.HueSaturationValue(p=0.3),\n",
    "])\n",
    "\n",
    "# === Read the CSV file and apply augmentations ===\n",
    "with open(csv_file, newline='') as csvfile:\n",
    "    reader = csv.DictReader(csvfile)\n",
    "    for row in reader:\n",
    "        filename = row['Filename']\n",
    "        base_name = os.path.splitext(filename)[0]\n",
    "\n",
    "        image_path = os.path.join(input_image_folder, filename.replace('png', 'jpg').replace('mask_', ''))\n",
    "        if not os.path.exists(image_path):\n",
    "            print(f\"⚠️ Warning: {str(image_path)} not found.\")\n",
    "            continue\n",
    "\n",
    "        # Load image\n",
    "        image = np.array(Image.open(image_path).convert('RGB'))\n",
    "\n",
    "        # Apply multiple augmentations\n",
    "        for i in range(augmentations_per_image):\n",
    "            augmented = transform(image=image, )['image']\n",
    "            aug_image = Image.fromarray(augmented)\n",
    "\n",
    "            # Save augmented image\n",
    "            aug_filename = f\"{base_name}_aug{i+1}.png\"\n",
    "            aug_image.save(os.path.join(output_image_folder, aug_filename))\n",
    "\n",
    "print(\"✅ Augmentation completed!\")\n"
   ]
  }
 ],
 "metadata": {
  "kernelspec": {
   "display_name": "Python 3 (ipykernel)",
   "language": "python",
   "name": "python3"
  },
  "language_info": {
   "codemirror_mode": {
    "name": "ipython",
    "version": 3
   },
   "file_extension": ".py",
   "mimetype": "text/x-python",
   "name": "python",
   "nbconvert_exporter": "python",
   "pygments_lexer": "ipython3",
   "version": "3.11.8"
  }
 },
 "nbformat": 4,
 "nbformat_minor": 5
}
