import jpype
import jpype.imports
from jpype.types import *

import numpy as np


# start JVM
if not jpype.isJVMStarted():
    jpype.startJVM(classpath=["."])


# Import Java classes
from delaunayTriangulationJava import DelaunayGraphBuilder, SuperpixelResult



